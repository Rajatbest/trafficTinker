{
 "cells": [
  {
   "cell_type": "code",
   "execution_count": 1,
   "metadata": {},
   "outputs": [],
   "source": [
    "import numpy as np\n",
    "import os\n",
    "import six.moves.urllib as urllib\n",
    "import sys\n",
    "import tarfile\n",
    "import tensorflow as tf \n",
    "import zipfile"
   ]
  },
  {
   "cell_type": "code",
   "execution_count": 2,
   "metadata": {},
   "outputs": [],
   "source": [
    "from collections import defaultdict\n",
    "from io import StringIO\n",
    "from matplotlib import pyplot as plt\n",
    "from PIL import Image"
   ]
  },
  {
   "cell_type": "code",
   "execution_count": 3,
   "metadata": {},
   "outputs": [],
   "source": [
    "sys.path.append(\"..\")\n",
    "from object_detection.utils import ops as utils_ops\n",
    "\n",
    "if tf.__version__ < '1.4.0':\n",
    "  raise ImportError('Please upgrade your tensorflow installation to v1.4.* or later!')"
   ]
  },
  {
   "cell_type": "code",
   "execution_count": 4,
   "metadata": {},
   "outputs": [],
   "source": [
    "get_ipython().run_line_magic('matplotlib', 'inline')"
   ]
  },
  {
   "cell_type": "code",
   "execution_count": 5,
   "metadata": {},
   "outputs": [
    {
     "data": {
      "text/plain": [
       "'/home/sanchit/Deep-Learning-Project-master'"
      ]
     },
     "execution_count": 5,
     "metadata": {},
     "output_type": "execute_result"
    }
   ],
   "source": [
    "os.getcwd()"
   ]
  },
  {
   "cell_type": "code",
   "execution_count": 6,
   "metadata": {},
   "outputs": [],
   "source": [
    "import os\n",
    "\n",
    "os.chdir('/home/sanchit/Deep-Learning-Project-master/object_detection')\n",
    "\n",
    "# import sys\n",
    "\n",
    "# sys.path\n",
    "# sys.path.insert(0, '/object_detection')\n",
    "\n",
    "from object_detection.utils import label_map_util"
   ]
  },
  {
   "cell_type": "code",
   "execution_count": 7,
   "metadata": {},
   "outputs": [],
   "source": [
    "from utils import visualization_utils as vis_util"
   ]
  },
  {
   "cell_type": "code",
   "execution_count": 8,
   "metadata": {},
   "outputs": [],
   "source": [
    "MODEL_NAME = 'ssd_mobilenet_v1_coco_2017_11_17'\n",
    "MODEL_FILE = MODEL_NAME + '.tar.gz'\n",
    "DOWNLOAD_BASE = 'http://download.tensorflow.org/models/object_detection/'\n",
    "\n",
    "# Path to frozen detection graph. This is the actual model that is used for the object detection.\n",
    "PATH_TO_CKPT = MODEL_NAME + '/frozen_inference_graph.pb'\n",
    "\n",
    "# List of the strings that is used to add correct label for each box.\n",
    "PATH_TO_LABELS = os.path.join('data', 'mscoco_label_map.pbtxt')\n",
    "\n",
    "NUM_CLASSES = 90"
   ]
  },
  {
   "cell_type": "code",
   "execution_count": 9,
   "metadata": {},
   "outputs": [],
   "source": [
    "opener = urllib.request.URLopener()\n",
    "opener.retrieve(DOWNLOAD_BASE + MODEL_FILE, MODEL_FILE)\n",
    "tar_file = tarfile.open(MODEL_FILE)\n",
    "for file in tar_file.getmembers():\n",
    "  file_name = os.path.basename(file.name)\n",
    "  if 'frozen_inference_graph.pb' in file_name:\n",
    "    tar_file.extract(file, os.getcwd())"
   ]
  },
  {
   "cell_type": "code",
   "execution_count": 10,
   "metadata": {},
   "outputs": [],
   "source": [
    "detection_graph = tf.Graph()\n",
    "with detection_graph.as_default():\n",
    "  od_graph_def = tf.GraphDef()\n",
    "  with tf.gfile.GFile(PATH_TO_CKPT, 'rb') as fid:\n",
    "    serialized_graph = fid.read()\n",
    "    od_graph_def.ParseFromString(serialized_graph)\n",
    "    tf.import_graph_def(od_graph_def, name='')"
   ]
  },
  {
   "cell_type": "code",
   "execution_count": 11,
   "metadata": {},
   "outputs": [],
   "source": [
    "label_map = label_map_util.load_labelmap(PATH_TO_LABELS)\n",
    "categories = label_map_util.convert_label_map_to_categories(label_map, max_num_classes=NUM_CLASSES, use_display_name=True)\n",
    "category_index = label_map_util.create_category_index(categories)"
   ]
  },
  {
   "cell_type": "code",
   "execution_count": 12,
   "metadata": {},
   "outputs": [
    {
     "name": "stderr",
     "output_type": "stream",
     "text": [
      "/home/sanchit/.local/lib/python3.5/site-packages/ipykernel_launcher.py:38: FutureWarning: elementwise comparison failed; returning scalar instead, but in the future will perform elementwise comparison\n",
      "/home/sanchit/.local/lib/python3.5/site-packages/ipykernel_launcher.py:40: FutureWarning: elementwise comparison failed; returning scalar instead, but in the future will perform elementwise comparison\n"
     ]
    }
   ],
   "source": [
    "import cv2\n",
    "cap = cv2.VideoCapture(0)\n",
    "\n",
    "counter_gen = 0\n",
    "# Running the tensorflow session\n",
    "with detection_graph.as_default():\n",
    "  with tf.Session(graph=detection_graph) as sess:\n",
    "   ret = True\n",
    "   while (ret):\n",
    "      ret,image_np = cap.read()\n",
    "      # Expand dimensions since the model expects images to have shape: [1, None, None, 3]\n",
    "      image_np_expanded = np.expand_dims(image_np, axis=0)\n",
    "      image_tensor = detection_graph.get_tensor_by_name('image_tensor:0')\n",
    "      # Each box represents a part of the image where a particular object was detected.\n",
    "      boxes = detection_graph.get_tensor_by_name('detection_boxes:0')\n",
    "      # Each score represent how level of confidence for each of the objects.\n",
    "      # Score is shown on the result image, together with the class label.\n",
    "      scores = detection_graph.get_tensor_by_name('detection_scores:0')\n",
    "      classes = detection_graph.get_tensor_by_name('detection_classes:0')\n",
    "      num_detections = detection_graph.get_tensor_by_name('num_detections:0')\n",
    "      # Actual detection.\n",
    "      (boxes, scores, classes, num_detections) = sess.run(\n",
    "          [boxes, scores, classes, num_detections],\n",
    "          feed_dict={image_tensor: image_np_expanded})\n",
    "      # Visualization of the results of a detection.\n",
    "      vis_util.visualize_boxes_and_labels_on_image_array(\n",
    "          image_np,\n",
    "          np.squeeze(boxes),\n",
    "          np.squeeze(classes).astype(np.int32),\n",
    "          np.squeeze(scores),\n",
    "          category_index,\n",
    "          use_normalized_coordinates=True,\n",
    "          line_thickness=8)\n",
    "#       print(len(boxes.shape))\n",
    "      \n",
    "      counter = 0\n",
    "      for i in classes:\n",
    "        if i in ['cars', 'bus', 'truck', 'bike']:\n",
    "            counter += 1\n",
    "        if i in ['ambulance', 'fire brigade']:\n",
    "            counter += 10000\n",
    "            \n",
    "      counter_gen = counter\n",
    "      \n",
    "            \n",
    "      \n",
    "    \n",
    "#      plt.figure(figsize=IMAGE_SIZE)\n",
    "#      plt.imshow(image_np)\n",
    "      cv2.imshow('image',cv2.resize(image_np,(1280,960)))\n",
    "      if cv2.waitKey(25) & 0xFF == ord('q'):\n",
    "          cv2.destroyAllWindows()\n",
    "          cap.release()\n",
    "          break\n",
    "        "
   ]
  },
  {
   "cell_type": "code",
   "execution_count": 13,
   "metadata": {},
   "outputs": [],
   "source": [
    "def which_ligh_to_turn_on(counter_gen =np.random.randint(10, 100), counter_gen1 = np.random.randint(10, 100),\n",
    "                          counter_gen2 = np.random.randint(10, 100), counter_gen3 = np.random.randint(10, 100)):\n",
    "    li = [counter_gen, counter_gen1, counter_gen2, counter_gen3]\n",
    "    temp = li[:]\n",
    "    \n",
    "    fi = []\n",
    "    while(len(temp)>0):\n",
    "        max_light = max(temp)\n",
    "        fi.append(temp.index(max_light))\n",
    "        temp.remove(max_light)\n",
    "        \n",
    "    ti = {0:0, 1:0, 2:0, 3:0}\n",
    "    if li[fi[0]] > 10000:\n",
    "        ti[fi[0]] = 80\n",
    "        return ti\n",
    "    else:\n",
    "        ti[fi[0]] = 80\n",
    "        ti[fi[1]] = 70\n",
    "        ti[fi[2]] = 50\n",
    "        ti[fi[3]] = 40\n",
    "        return ti\n",
    "    \n",
    "ti = which_ligh_to_turn_on(counter_gen=counter_gen)"
   ]
  },
  {
   "cell_type": "code",
   "execution_count": 14,
   "metadata": {},
   "outputs": [],
   "source": [
    "import time"
   ]
  },
  {
   "cell_type": "code",
   "execution_count": null,
   "metadata": {},
   "outputs": [],
   "source": [
    "import time\n",
    "from tkinter import *\n",
    "\n",
    "class TrafficLights:\n",
    "\n",
    "    def __init__(self,ti):\n",
    "\n",
    "        window = Tk()\n",
    "        window.title(\"Traffic Light\")\n",
    "\n",
    "        frame = Frame(window)\n",
    "        frame.pack()\n",
    "\n",
    "        self.color = StringVar()\n",
    "\n",
    "#         radio_red = Radiobutton(frame, text=\"Red\", bg=\"red\", variable=self.color, value=\"R\", command=self.on_RadioChange)\n",
    "#         radio_red.grid(row=10, column=1)\n",
    "\n",
    "#         radio_yellow = Radiobutton(frame, text=\"Yellow\", bg=\"yellow\", variable=self.color, value=\"Y\", command=self.on_RadioChange)               \n",
    "#         radio_yellow.grid(row = 10, column = 2)\n",
    "\n",
    "#         radio_green = Radiobutton(frame, text=\"Green\", bg=\"green\", variable=self.color, value=\"G\", command=self.on_RadioChange)\n",
    "#         radio_green.grid(row = 10, column = 3)\n",
    "\n",
    "        self.canvas = Canvas(window, width=450, height=300, bg=\"white\")\n",
    "        self.canvas.pack()\n",
    "\n",
    "        set()\n",
    "\n",
    "#         self.color.set('R')\n",
    "#         self.canvas.itemconfig(self.oval_red, fill=\"red\")\n",
    "\n",
    "        self.canvas.itemconfig(self.oval_red1, fill=\"red\")\n",
    "        self.canvas.itemconfig(self.oval_red2, fill=\"red\")\n",
    "        self.canvas.itemconfig(self.oval_red3, fill=\"red\")\n",
    "        self.canvas.itemconfig(self.oval_red4, fill=\"red\")\n",
    "    \n",
    "        \n",
    "        self.canvas.itemconfig(self.oval_red1, fill=\"white\")\n",
    "        self.canvas.itemconfig(self.oval_green1, fill=\"green\")\n",
    "#         window.mainloop()\n",
    "        time.sleep(ti[0])\n",
    "        self.canvas.itemconfig(self.oval_green1, fill=\"white\")\n",
    "        \n",
    "        self.canvas.itemconfig(self.oval_red1, fill=\"red\")\n",
    "        self.canvas.itemconfig(self.oval_red2, fill=\"red\")\n",
    "        self.canvas.itemconfig(self.oval_red3, fill=\"red\")\n",
    "        self.canvas.itemconfig(self.oval_red4, fill=\"red\")\n",
    "    \n",
    "        \n",
    "        self.canvas.itemconfig(self.oval_red2, fill=\"white\")\n",
    "        self.canvas.itemconfig(self.oval_green2, fill=\"green\")\n",
    "#         window.mainloop()\n",
    "        time.sleep(ti[1])\n",
    "        self.canvas.itemconfig(self.oval_green2, fill=\"white\")\n",
    "        \n",
    "        self.canvas.itemconfig(self.oval_red1, fill=\"red\")\n",
    "        self.canvas.itemconfig(self.oval_red2, fill=\"red\")\n",
    "        self.canvas.itemconfig(self.oval_red3, fill=\"red\")\n",
    "        self.canvas.itemconfig(self.oval_red4, fill=\"red\")\n",
    "    \n",
    "        \n",
    "        self.canvas.itemconfig(self.oval_red3, fill=\"white\")\n",
    "        self.canvas.itemconfig(self.oval_green3, fill=\"green\")\n",
    "#         window.mainloop()\n",
    "        time.sleep(ti[2])\n",
    "        self.canvas.itemconfig(self.oval_green3, fill=\"white\")\n",
    "        \n",
    "        self.canvas.itemconfig(self.oval_red1, fill=\"red\")\n",
    "        self.canvas.itemconfig(self.oval_red2, fill=\"red\")\n",
    "        self.canvas.itemconfig(self.oval_red3, fill=\"red\")\n",
    "        self.canvas.itemconfig(self.oval_red3, fill=\"red\")\n",
    "    \n",
    "        \n",
    "        self.canvas.itemconfig(self.oval_red4, fill=\"white\")\n",
    "        self.canvas.itemconfig(self.oval_green4, fill=\"green\")\n",
    "        time.sleep(ti[3])\n",
    "        window.mainloop()\n",
    "        \n",
    "#         window.mainloop()\n",
    "\n",
    "    def set(self):\n",
    "        self.oval_red1 = self.canvas.create_oval(20, 10, 110, 60, fill=\"white\")\n",
    "        self.oval_yellow1 = self.canvas.create_oval(120, 10, 210, 60, fill=\"white\")\n",
    "        self.oval_green1 = self.canvas.create_oval(220, 10, 310, 60, fill=\"white\")\n",
    "        \n",
    "        self.oval_red2 = self.canvas.create_oval(20, 70, 110, 120, fill=\"white\")\n",
    "        self.oval_yellow2 = self.canvas.create_oval(120, 70, 210, 120, fill=\"white\")\n",
    "        self.oval_green2 = self.canvas.create_oval(220, 70, 310, 120, fill=\"white\")\n",
    "\n",
    "        self.oval_red3 = self.canvas.create_oval(20, 130, 110, 180, fill=\"white\")\n",
    "        self.oval_yellow3 = self.canvas.create_oval(120, 130, 210, 180, fill=\"white\")\n",
    "        self.oval_green3 = self.canvas.create_oval(220, 130, 310, 180, fill=\"white\")\n",
    "        \n",
    "        self.oval_red4 = self.canvas.create_oval(20, 190, 110, 240, fill=\"white\")\n",
    "        self.oval_yellow4 = self.canvas.create_oval(120, 190, 210, 240, fill=\"white\")\n",
    "        self.oval_green4 = self.canvas.create_oval(220, 190, 310, 240, fill=\"white\")\n",
    "        \n",
    "        \n",
    "    def on_RadioChange(self):\n",
    "#         color = self.color.get()\n",
    "\n",
    "#         if color == 'R':\n",
    "#             self.canvas.itemconfig(self.oval_red, fill=\"red\")\n",
    "#             self.canvas.itemconfig(self.oval_yellow, fill=\"white\")\n",
    "#             self.canvas.itemconfig(self.oval_green, fill=\"white\")\n",
    "#         elif color == 'Y':\n",
    "#             self.canvas.itemconfig(self.oval_red, fill=\"white\")\n",
    "#             self.canvas.itemconfig(self.oval_yellow, fill=\"yellow\")\n",
    "#             self.canvas.itemconfig(self.oval_green, fill=\"white\")\n",
    "#         elif color == 'G':\n",
    "#             self.canvas.itemconfig(self.oval_red, fill=\"white\")\n",
    "#             self.canvas.itemconfig(self.oval_yellow, fill=\"white\")\n",
    "#             self.canvas.itemconfig(self.oval_green, fill=\"green\")\n",
    "\n",
    "\n",
    "TrafficLights([3,4,5,3])\n"
   ]
  },
  {
   "cell_type": "code",
   "execution_count": null,
   "metadata": {},
   "outputs": [],
   "source": []
  }
 ],
 "metadata": {
  "kernelspec": {
   "display_name": "Python 3",
   "language": "python",
   "name": "python3"
  },
  "language_info": {
   "codemirror_mode": {
    "name": "ipython",
    "version": 3
   },
   "file_extension": ".py",
   "mimetype": "text/x-python",
   "name": "python",
   "nbconvert_exporter": "python",
   "pygments_lexer": "ipython3",
   "version": "3.5.2"
  }
 },
 "nbformat": 4,
 "nbformat_minor": 2
}
